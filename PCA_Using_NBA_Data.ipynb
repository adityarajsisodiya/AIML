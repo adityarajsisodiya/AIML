{
 "cells": [
  {
   "cell_type": "code",
   "execution_count": 1,
   "id": "5e734cde",
   "metadata": {},
   "outputs": [],
   "source": [
    "import pandas as pd\n",
    "import numpy as np\n",
    "import seaborn as sns\n",
    "from matplotlib import pyplot as plt"
   ]
  },
  {
   "cell_type": "code",
   "execution_count": 2,
   "id": "ba22630d",
   "metadata": {},
   "outputs": [
    {
     "data": {
      "text/html": [
       "<div>\n",
       "<style scoped>\n",
       "    .dataframe tbody tr th:only-of-type {\n",
       "        vertical-align: middle;\n",
       "    }\n",
       "\n",
       "    .dataframe tbody tr th {\n",
       "        vertical-align: top;\n",
       "    }\n",
       "\n",
       "    .dataframe thead th {\n",
       "        text-align: right;\n",
       "    }\n",
       "</style>\n",
       "<table border=\"1\" class=\"dataframe\">\n",
       "  <thead>\n",
       "    <tr style=\"text-align: right;\">\n",
       "      <th></th>\n",
       "      <th>Rk</th>\n",
       "      <th>Player.x</th>\n",
       "      <th>Player_ID</th>\n",
       "      <th>Pos1</th>\n",
       "      <th>Pos2</th>\n",
       "      <th>Age</th>\n",
       "      <th>Tm</th>\n",
       "      <th>G</th>\n",
       "      <th>GS</th>\n",
       "      <th>MP</th>\n",
       "      <th>...</th>\n",
       "      <th>Conference</th>\n",
       "      <th>Role</th>\n",
       "      <th>Fvot</th>\n",
       "      <th>FRank</th>\n",
       "      <th>Pvot</th>\n",
       "      <th>PRank</th>\n",
       "      <th>Mvot</th>\n",
       "      <th>MRank</th>\n",
       "      <th>Score</th>\n",
       "      <th>Play</th>\n",
       "    </tr>\n",
       "  </thead>\n",
       "  <tbody>\n",
       "    <tr>\n",
       "      <th>0</th>\n",
       "      <td>170</td>\n",
       "      <td>A.J. Hammons</td>\n",
       "      <td>hammoaj01</td>\n",
       "      <td>C</td>\n",
       "      <td>NaN</td>\n",
       "      <td>24</td>\n",
       "      <td>DAL</td>\n",
       "      <td>22</td>\n",
       "      <td>0</td>\n",
       "      <td>7.4</td>\n",
       "      <td>...</td>\n",
       "      <td>West</td>\n",
       "      <td>Front</td>\n",
       "      <td>786</td>\n",
       "      <td>123</td>\n",
       "      <td>NaN</td>\n",
       "      <td>NaN</td>\n",
       "      <td>NaN</td>\n",
       "      <td>NaN</td>\n",
       "      <td>83.5</td>\n",
       "      <td>No</td>\n",
       "    </tr>\n",
       "    <tr>\n",
       "      <th>1</th>\n",
       "      <td>58</td>\n",
       "      <td>Aaron Brooks</td>\n",
       "      <td>brookaa01</td>\n",
       "      <td>PG</td>\n",
       "      <td>NaN</td>\n",
       "      <td>32</td>\n",
       "      <td>IND</td>\n",
       "      <td>65</td>\n",
       "      <td>0</td>\n",
       "      <td>13.8</td>\n",
       "      <td>...</td>\n",
       "      <td>Est</td>\n",
       "      <td>Back</td>\n",
       "      <td>2474</td>\n",
       "      <td>64</td>\n",
       "      <td>NaN</td>\n",
       "      <td>NaN</td>\n",
       "      <td>NaN</td>\n",
       "      <td>NaN</td>\n",
       "      <td>48.2</td>\n",
       "      <td>No</td>\n",
       "    </tr>\n",
       "    <tr>\n",
       "      <th>2</th>\n",
       "      <td>157</td>\n",
       "      <td>Aaron Gordon</td>\n",
       "      <td>gordoaa01</td>\n",
       "      <td>SF</td>\n",
       "      <td>NaN</td>\n",
       "      <td>21</td>\n",
       "      <td>ORL</td>\n",
       "      <td>80</td>\n",
       "      <td>72</td>\n",
       "      <td>28.7</td>\n",
       "      <td>...</td>\n",
       "      <td>Est</td>\n",
       "      <td>Front</td>\n",
       "      <td>22774</td>\n",
       "      <td>29</td>\n",
       "      <td>NaN</td>\n",
       "      <td>NaN</td>\n",
       "      <td>NaN</td>\n",
       "      <td>NaN</td>\n",
       "      <td>40.0</td>\n",
       "      <td>No</td>\n",
       "    </tr>\n",
       "    <tr>\n",
       "      <th>3</th>\n",
       "      <td>352</td>\n",
       "      <td>Adreian Payne</td>\n",
       "      <td>paynead01</td>\n",
       "      <td>PF</td>\n",
       "      <td>NaN</td>\n",
       "      <td>25</td>\n",
       "      <td>MIN</td>\n",
       "      <td>18</td>\n",
       "      <td>0</td>\n",
       "      <td>7.5</td>\n",
       "      <td>...</td>\n",
       "      <td>West</td>\n",
       "      <td>Front</td>\n",
       "      <td>861</td>\n",
       "      <td>120</td>\n",
       "      <td>1.0</td>\n",
       "      <td>52.0</td>\n",
       "      <td>NaN</td>\n",
       "      <td>NaN</td>\n",
       "      <td>75.5</td>\n",
       "      <td>No</td>\n",
       "    </tr>\n",
       "    <tr>\n",
       "      <th>4</th>\n",
       "      <td>10</td>\n",
       "      <td>Al-Farouq Aminu</td>\n",
       "      <td>aminual01</td>\n",
       "      <td>PF</td>\n",
       "      <td>NaN</td>\n",
       "      <td>26</td>\n",
       "      <td>POR</td>\n",
       "      <td>61</td>\n",
       "      <td>25</td>\n",
       "      <td>29.1</td>\n",
       "      <td>...</td>\n",
       "      <td>West</td>\n",
       "      <td>Front</td>\n",
       "      <td>4971</td>\n",
       "      <td>69</td>\n",
       "      <td>7.0</td>\n",
       "      <td>23.0</td>\n",
       "      <td>NaN</td>\n",
       "      <td>NaN</td>\n",
       "      <td>42.8</td>\n",
       "      <td>No</td>\n",
       "    </tr>\n",
       "  </tbody>\n",
       "</table>\n",
       "<p>5 rows × 45 columns</p>\n",
       "</div>"
      ],
      "text/plain": [
       "    Rk         Player.x  Player_ID Pos1 Pos2  Age   Tm   G  GS    MP  ...  \\\n",
       "0  170     A.J. Hammons  hammoaj01    C  NaN   24  DAL  22   0   7.4  ...   \n",
       "1   58     Aaron Brooks  brookaa01   PG  NaN   32  IND  65   0  13.8  ...   \n",
       "2  157     Aaron Gordon  gordoaa01   SF  NaN   21  ORL  80  72  28.7  ...   \n",
       "3  352    Adreian Payne  paynead01   PF  NaN   25  MIN  18   0   7.5  ...   \n",
       "4   10  Al-Farouq Aminu  aminual01   PF  NaN   26  POR  61  25  29.1  ...   \n",
       "\n",
       "   Conference   Role   Fvot  FRank  Pvot  PRank  Mvot  MRank  Score  Play  \n",
       "0        West  Front    786    123   NaN    NaN   NaN    NaN   83.5    No  \n",
       "1         Est   Back   2474     64   NaN    NaN   NaN    NaN   48.2    No  \n",
       "2         Est  Front  22774     29   NaN    NaN   NaN    NaN   40.0    No  \n",
       "3        West  Front    861    120   1.0   52.0   NaN    NaN   75.5    No  \n",
       "4        West  Front   4971     69   7.0   23.0   NaN    NaN   42.8    No  \n",
       "\n",
       "[5 rows x 45 columns]"
      ]
     },
     "execution_count": 2,
     "metadata": {},
     "output_type": "execute_result"
    }
   ],
   "source": [
    "data=pd.read_csv(r\"C:\\Users\\Aaditya\\Desktop\\Intellipaat\\Jupyter_Notebook_Directory\\dataset\\nba_final.csv\")\n",
    "data.head()"
   ]
  },
  {
   "cell_type": "code",
   "execution_count": 3,
   "id": "32fdd168",
   "metadata": {},
   "outputs": [
    {
     "data": {
      "text/plain": [
       "(1408, 45)"
      ]
     },
     "execution_count": 3,
     "metadata": {},
     "output_type": "execute_result"
    }
   ],
   "source": [
    "data.shape"
   ]
  },
  {
   "cell_type": "code",
   "execution_count": 4,
   "id": "e5cce594",
   "metadata": {},
   "outputs": [
    {
     "name": "stdout",
     "output_type": "stream",
     "text": [
      "<class 'pandas.core.frame.DataFrame'>\n",
      "RangeIndex: 1408 entries, 0 to 1407\n",
      "Data columns (total 45 columns):\n",
      " #   Column      Non-Null Count  Dtype  \n",
      "---  ------      --------------  -----  \n",
      " 0   Rk          1408 non-null   int64  \n",
      " 1   Player.x    1408 non-null   object \n",
      " 2   Player_ID   1408 non-null   object \n",
      " 3   Pos1        1408 non-null   object \n",
      " 4   Pos2        12 non-null     object \n",
      " 5   Age         1408 non-null   int64  \n",
      " 6   Tm          1408 non-null   object \n",
      " 7   G           1408 non-null   int64  \n",
      " 8   GS          1408 non-null   int64  \n",
      " 9   MP          1408 non-null   float64\n",
      " 10  FG          1408 non-null   float64\n",
      " 11  FGA         1408 non-null   float64\n",
      " 12  FG.         1404 non-null   float64\n",
      " 13  X3P         1408 non-null   float64\n",
      " 14  X3PA        1408 non-null   float64\n",
      " 15  X3P.        1309 non-null   float64\n",
      " 16  X2P         1408 non-null   float64\n",
      " 17  X2PA        1408 non-null   float64\n",
      " 18  X2P.        1393 non-null   float64\n",
      " 19  eFG.        1404 non-null   float64\n",
      " 20  FT          1408 non-null   float64\n",
      " 21  FTA         1408 non-null   float64\n",
      " 22  FT.         1361 non-null   float64\n",
      " 23  ORB         1408 non-null   float64\n",
      " 24  DRB         1408 non-null   float64\n",
      " 25  TRB         1408 non-null   float64\n",
      " 26  AST         1408 non-null   float64\n",
      " 27  STL         1408 non-null   float64\n",
      " 28  BLK         1408 non-null   float64\n",
      " 29  TOV         1408 non-null   float64\n",
      " 30  PF          1408 non-null   float64\n",
      " 31  PTS         1408 non-null   float64\n",
      " 32  Salary      1346 non-null   float64\n",
      " 33  mean_views  1270 non-null   float64\n",
      " 34  Season      1408 non-null   object \n",
      " 35  Conference  1408 non-null   object \n",
      " 36  Role        1408 non-null   object \n",
      " 37  Fvot        1408 non-null   int64  \n",
      " 38  FRank       1408 non-null   int64  \n",
      " 39  Pvot        1249 non-null   float64\n",
      " 40  PRank       1249 non-null   float64\n",
      " 41  Mvot        1004 non-null   float64\n",
      " 42  MRank       1004 non-null   float64\n",
      " 43  Score       1408 non-null   float64\n",
      " 44  Play        1408 non-null   object \n",
      "dtypes: float64(30), int64(6), object(9)\n",
      "memory usage: 495.1+ KB\n"
     ]
    }
   ],
   "source": [
    "data.info()"
   ]
  },
  {
   "cell_type": "code",
   "execution_count": 5,
   "id": "6b56171e",
   "metadata": {},
   "outputs": [],
   "source": [
    "data[\"Pos2\"]=data[\"Pos2\"].replace(np.nan,\"NONE\")"
   ]
  },
  {
   "cell_type": "code",
   "execution_count": 6,
   "id": "3b6222ed",
   "metadata": {},
   "outputs": [
    {
     "name": "stdout",
     "output_type": "stream",
     "text": [
      "<class 'pandas.core.frame.DataFrame'>\n",
      "RangeIndex: 1408 entries, 0 to 1407\n",
      "Data columns (total 45 columns):\n",
      " #   Column      Non-Null Count  Dtype  \n",
      "---  ------      --------------  -----  \n",
      " 0   Rk          1408 non-null   int64  \n",
      " 1   Player.x    1408 non-null   object \n",
      " 2   Player_ID   1408 non-null   object \n",
      " 3   Pos1        1408 non-null   object \n",
      " 4   Pos2        1408 non-null   object \n",
      " 5   Age         1408 non-null   int64  \n",
      " 6   Tm          1408 non-null   object \n",
      " 7   G           1408 non-null   int64  \n",
      " 8   GS          1408 non-null   int64  \n",
      " 9   MP          1408 non-null   float64\n",
      " 10  FG          1408 non-null   float64\n",
      " 11  FGA         1408 non-null   float64\n",
      " 12  FG.         1404 non-null   float64\n",
      " 13  X3P         1408 non-null   float64\n",
      " 14  X3PA        1408 non-null   float64\n",
      " 15  X3P.        1309 non-null   float64\n",
      " 16  X2P         1408 non-null   float64\n",
      " 17  X2PA        1408 non-null   float64\n",
      " 18  X2P.        1393 non-null   float64\n",
      " 19  eFG.        1404 non-null   float64\n",
      " 20  FT          1408 non-null   float64\n",
      " 21  FTA         1408 non-null   float64\n",
      " 22  FT.         1361 non-null   float64\n",
      " 23  ORB         1408 non-null   float64\n",
      " 24  DRB         1408 non-null   float64\n",
      " 25  TRB         1408 non-null   float64\n",
      " 26  AST         1408 non-null   float64\n",
      " 27  STL         1408 non-null   float64\n",
      " 28  BLK         1408 non-null   float64\n",
      " 29  TOV         1408 non-null   float64\n",
      " 30  PF          1408 non-null   float64\n",
      " 31  PTS         1408 non-null   float64\n",
      " 32  Salary      1346 non-null   float64\n",
      " 33  mean_views  1270 non-null   float64\n",
      " 34  Season      1408 non-null   object \n",
      " 35  Conference  1408 non-null   object \n",
      " 36  Role        1408 non-null   object \n",
      " 37  Fvot        1408 non-null   int64  \n",
      " 38  FRank       1408 non-null   int64  \n",
      " 39  Pvot        1249 non-null   float64\n",
      " 40  PRank       1249 non-null   float64\n",
      " 41  Mvot        1004 non-null   float64\n",
      " 42  MRank       1004 non-null   float64\n",
      " 43  Score       1408 non-null   float64\n",
      " 44  Play        1408 non-null   object \n",
      "dtypes: float64(30), int64(6), object(9)\n",
      "memory usage: 495.1+ KB\n"
     ]
    }
   ],
   "source": [
    "data.info()"
   ]
  },
  {
   "cell_type": "code",
   "execution_count": 7,
   "id": "7ca261d4",
   "metadata": {},
   "outputs": [],
   "source": [
    "data.fillna(0,inplace=True)"
   ]
  },
  {
   "cell_type": "code",
   "execution_count": 8,
   "id": "c9824775",
   "metadata": {},
   "outputs": [
    {
     "data": {
      "text/plain": [
       "0"
      ]
     },
     "execution_count": 8,
     "metadata": {},
     "output_type": "execute_result"
    }
   ],
   "source": [
    "data.isnull().sum().sum()"
   ]
  },
  {
   "cell_type": "code",
   "execution_count": 9,
   "id": "9b771aa8",
   "metadata": {},
   "outputs": [],
   "source": [
    "data.drop([\"Player.x\",\"Player_ID\"],axis=1,inplace=True)"
   ]
  },
  {
   "cell_type": "code",
   "execution_count": 10,
   "id": "90943159",
   "metadata": {},
   "outputs": [
    {
     "data": {
      "text/html": [
       "<div>\n",
       "<style scoped>\n",
       "    .dataframe tbody tr th:only-of-type {\n",
       "        vertical-align: middle;\n",
       "    }\n",
       "\n",
       "    .dataframe tbody tr th {\n",
       "        vertical-align: top;\n",
       "    }\n",
       "\n",
       "    .dataframe thead th {\n",
       "        text-align: right;\n",
       "    }\n",
       "</style>\n",
       "<table border=\"1\" class=\"dataframe\">\n",
       "  <thead>\n",
       "    <tr style=\"text-align: right;\">\n",
       "      <th></th>\n",
       "      <th>Rk</th>\n",
       "      <th>Pos1</th>\n",
       "      <th>Pos2</th>\n",
       "      <th>Age</th>\n",
       "      <th>Tm</th>\n",
       "      <th>G</th>\n",
       "      <th>GS</th>\n",
       "      <th>MP</th>\n",
       "      <th>FG</th>\n",
       "      <th>FGA</th>\n",
       "      <th>...</th>\n",
       "      <th>Conference</th>\n",
       "      <th>Role</th>\n",
       "      <th>Fvot</th>\n",
       "      <th>FRank</th>\n",
       "      <th>Pvot</th>\n",
       "      <th>PRank</th>\n",
       "      <th>Mvot</th>\n",
       "      <th>MRank</th>\n",
       "      <th>Score</th>\n",
       "      <th>Play</th>\n",
       "    </tr>\n",
       "  </thead>\n",
       "  <tbody>\n",
       "    <tr>\n",
       "      <th>0</th>\n",
       "      <td>170</td>\n",
       "      <td>C</td>\n",
       "      <td>NONE</td>\n",
       "      <td>24</td>\n",
       "      <td>DAL</td>\n",
       "      <td>22</td>\n",
       "      <td>0</td>\n",
       "      <td>7.4</td>\n",
       "      <td>0.8</td>\n",
       "      <td>1.9</td>\n",
       "      <td>...</td>\n",
       "      <td>West</td>\n",
       "      <td>Front</td>\n",
       "      <td>786</td>\n",
       "      <td>123</td>\n",
       "      <td>0.0</td>\n",
       "      <td>0.0</td>\n",
       "      <td>0.0</td>\n",
       "      <td>0.0</td>\n",
       "      <td>83.5</td>\n",
       "      <td>No</td>\n",
       "    </tr>\n",
       "    <tr>\n",
       "      <th>1</th>\n",
       "      <td>58</td>\n",
       "      <td>PG</td>\n",
       "      <td>NONE</td>\n",
       "      <td>32</td>\n",
       "      <td>IND</td>\n",
       "      <td>65</td>\n",
       "      <td>0</td>\n",
       "      <td>13.8</td>\n",
       "      <td>1.9</td>\n",
       "      <td>4.6</td>\n",
       "      <td>...</td>\n",
       "      <td>Est</td>\n",
       "      <td>Back</td>\n",
       "      <td>2474</td>\n",
       "      <td>64</td>\n",
       "      <td>0.0</td>\n",
       "      <td>0.0</td>\n",
       "      <td>0.0</td>\n",
       "      <td>0.0</td>\n",
       "      <td>48.2</td>\n",
       "      <td>No</td>\n",
       "    </tr>\n",
       "    <tr>\n",
       "      <th>2</th>\n",
       "      <td>157</td>\n",
       "      <td>SF</td>\n",
       "      <td>NONE</td>\n",
       "      <td>21</td>\n",
       "      <td>ORL</td>\n",
       "      <td>80</td>\n",
       "      <td>72</td>\n",
       "      <td>28.7</td>\n",
       "      <td>4.9</td>\n",
       "      <td>10.8</td>\n",
       "      <td>...</td>\n",
       "      <td>Est</td>\n",
       "      <td>Front</td>\n",
       "      <td>22774</td>\n",
       "      <td>29</td>\n",
       "      <td>0.0</td>\n",
       "      <td>0.0</td>\n",
       "      <td>0.0</td>\n",
       "      <td>0.0</td>\n",
       "      <td>40.0</td>\n",
       "      <td>No</td>\n",
       "    </tr>\n",
       "    <tr>\n",
       "      <th>3</th>\n",
       "      <td>352</td>\n",
       "      <td>PF</td>\n",
       "      <td>NONE</td>\n",
       "      <td>25</td>\n",
       "      <td>MIN</td>\n",
       "      <td>18</td>\n",
       "      <td>0</td>\n",
       "      <td>7.5</td>\n",
       "      <td>1.3</td>\n",
       "      <td>3.0</td>\n",
       "      <td>...</td>\n",
       "      <td>West</td>\n",
       "      <td>Front</td>\n",
       "      <td>861</td>\n",
       "      <td>120</td>\n",
       "      <td>1.0</td>\n",
       "      <td>52.0</td>\n",
       "      <td>0.0</td>\n",
       "      <td>0.0</td>\n",
       "      <td>75.5</td>\n",
       "      <td>No</td>\n",
       "    </tr>\n",
       "    <tr>\n",
       "      <th>4</th>\n",
       "      <td>10</td>\n",
       "      <td>PF</td>\n",
       "      <td>NONE</td>\n",
       "      <td>26</td>\n",
       "      <td>POR</td>\n",
       "      <td>61</td>\n",
       "      <td>25</td>\n",
       "      <td>29.1</td>\n",
       "      <td>3.0</td>\n",
       "      <td>7.6</td>\n",
       "      <td>...</td>\n",
       "      <td>West</td>\n",
       "      <td>Front</td>\n",
       "      <td>4971</td>\n",
       "      <td>69</td>\n",
       "      <td>7.0</td>\n",
       "      <td>23.0</td>\n",
       "      <td>0.0</td>\n",
       "      <td>0.0</td>\n",
       "      <td>42.8</td>\n",
       "      <td>No</td>\n",
       "    </tr>\n",
       "  </tbody>\n",
       "</table>\n",
       "<p>5 rows × 43 columns</p>\n",
       "</div>"
      ],
      "text/plain": [
       "    Rk Pos1  Pos2  Age   Tm   G  GS    MP   FG   FGA  ...  Conference   Role  \\\n",
       "0  170    C  NONE   24  DAL  22   0   7.4  0.8   1.9  ...        West  Front   \n",
       "1   58   PG  NONE   32  IND  65   0  13.8  1.9   4.6  ...         Est   Back   \n",
       "2  157   SF  NONE   21  ORL  80  72  28.7  4.9  10.8  ...         Est  Front   \n",
       "3  352   PF  NONE   25  MIN  18   0   7.5  1.3   3.0  ...        West  Front   \n",
       "4   10   PF  NONE   26  POR  61  25  29.1  3.0   7.6  ...        West  Front   \n",
       "\n",
       "    Fvot  FRank  Pvot  PRank  Mvot  MRank  Score  Play  \n",
       "0    786    123   0.0    0.0   0.0    0.0   83.5    No  \n",
       "1   2474     64   0.0    0.0   0.0    0.0   48.2    No  \n",
       "2  22774     29   0.0    0.0   0.0    0.0   40.0    No  \n",
       "3    861    120   1.0   52.0   0.0    0.0   75.5    No  \n",
       "4   4971     69   7.0   23.0   0.0    0.0   42.8    No  \n",
       "\n",
       "[5 rows x 43 columns]"
      ]
     },
     "execution_count": 10,
     "metadata": {},
     "output_type": "execute_result"
    }
   ],
   "source": [
    "data.head()"
   ]
  },
  {
   "cell_type": "code",
   "execution_count": 11,
   "id": "fcc8e25c",
   "metadata": {},
   "outputs": [
    {
     "data": {
      "text/html": [
       "<div>\n",
       "<style scoped>\n",
       "    .dataframe tbody tr th:only-of-type {\n",
       "        vertical-align: middle;\n",
       "    }\n",
       "\n",
       "    .dataframe tbody tr th {\n",
       "        vertical-align: top;\n",
       "    }\n",
       "\n",
       "    .dataframe thead th {\n",
       "        text-align: right;\n",
       "    }\n",
       "</style>\n",
       "<table border=\"1\" class=\"dataframe\">\n",
       "  <thead>\n",
       "    <tr style=\"text-align: right;\">\n",
       "      <th></th>\n",
       "      <th>Rk</th>\n",
       "      <th>Pos1</th>\n",
       "      <th>Pos2</th>\n",
       "      <th>Age</th>\n",
       "      <th>Tm</th>\n",
       "      <th>G</th>\n",
       "      <th>GS</th>\n",
       "      <th>MP</th>\n",
       "      <th>FG</th>\n",
       "      <th>FGA</th>\n",
       "      <th>...</th>\n",
       "      <th>Conference</th>\n",
       "      <th>Role</th>\n",
       "      <th>Fvot</th>\n",
       "      <th>FRank</th>\n",
       "      <th>Pvot</th>\n",
       "      <th>PRank</th>\n",
       "      <th>Mvot</th>\n",
       "      <th>MRank</th>\n",
       "      <th>Score</th>\n",
       "      <th>Play</th>\n",
       "    </tr>\n",
       "  </thead>\n",
       "  <tbody>\n",
       "    <tr>\n",
       "      <th>0</th>\n",
       "      <td>170</td>\n",
       "      <td>0</td>\n",
       "      <td>1</td>\n",
       "      <td>24</td>\n",
       "      <td>6</td>\n",
       "      <td>22</td>\n",
       "      <td>0</td>\n",
       "      <td>7.4</td>\n",
       "      <td>0.8</td>\n",
       "      <td>1.9</td>\n",
       "      <td>...</td>\n",
       "      <td>1</td>\n",
       "      <td>1</td>\n",
       "      <td>786</td>\n",
       "      <td>123</td>\n",
       "      <td>0.0</td>\n",
       "      <td>0.0</td>\n",
       "      <td>0.0</td>\n",
       "      <td>0.0</td>\n",
       "      <td>83.5</td>\n",
       "      <td>0</td>\n",
       "    </tr>\n",
       "    <tr>\n",
       "      <th>1</th>\n",
       "      <td>58</td>\n",
       "      <td>2</td>\n",
       "      <td>1</td>\n",
       "      <td>32</td>\n",
       "      <td>11</td>\n",
       "      <td>65</td>\n",
       "      <td>0</td>\n",
       "      <td>13.8</td>\n",
       "      <td>1.9</td>\n",
       "      <td>4.6</td>\n",
       "      <td>...</td>\n",
       "      <td>0</td>\n",
       "      <td>0</td>\n",
       "      <td>2474</td>\n",
       "      <td>64</td>\n",
       "      <td>0.0</td>\n",
       "      <td>0.0</td>\n",
       "      <td>0.0</td>\n",
       "      <td>0.0</td>\n",
       "      <td>48.2</td>\n",
       "      <td>0</td>\n",
       "    </tr>\n",
       "    <tr>\n",
       "      <th>2</th>\n",
       "      <td>157</td>\n",
       "      <td>3</td>\n",
       "      <td>1</td>\n",
       "      <td>21</td>\n",
       "      <td>21</td>\n",
       "      <td>80</td>\n",
       "      <td>72</td>\n",
       "      <td>28.7</td>\n",
       "      <td>4.9</td>\n",
       "      <td>10.8</td>\n",
       "      <td>...</td>\n",
       "      <td>0</td>\n",
       "      <td>1</td>\n",
       "      <td>22774</td>\n",
       "      <td>29</td>\n",
       "      <td>0.0</td>\n",
       "      <td>0.0</td>\n",
       "      <td>0.0</td>\n",
       "      <td>0.0</td>\n",
       "      <td>40.0</td>\n",
       "      <td>0</td>\n",
       "    </tr>\n",
       "    <tr>\n",
       "      <th>3</th>\n",
       "      <td>352</td>\n",
       "      <td>1</td>\n",
       "      <td>1</td>\n",
       "      <td>25</td>\n",
       "      <td>17</td>\n",
       "      <td>18</td>\n",
       "      <td>0</td>\n",
       "      <td>7.5</td>\n",
       "      <td>1.3</td>\n",
       "      <td>3.0</td>\n",
       "      <td>...</td>\n",
       "      <td>1</td>\n",
       "      <td>1</td>\n",
       "      <td>861</td>\n",
       "      <td>120</td>\n",
       "      <td>1.0</td>\n",
       "      <td>52.0</td>\n",
       "      <td>0.0</td>\n",
       "      <td>0.0</td>\n",
       "      <td>75.5</td>\n",
       "      <td>0</td>\n",
       "    </tr>\n",
       "    <tr>\n",
       "      <th>4</th>\n",
       "      <td>10</td>\n",
       "      <td>1</td>\n",
       "      <td>1</td>\n",
       "      <td>26</td>\n",
       "      <td>24</td>\n",
       "      <td>61</td>\n",
       "      <td>25</td>\n",
       "      <td>29.1</td>\n",
       "      <td>3.0</td>\n",
       "      <td>7.6</td>\n",
       "      <td>...</td>\n",
       "      <td>1</td>\n",
       "      <td>1</td>\n",
       "      <td>4971</td>\n",
       "      <td>69</td>\n",
       "      <td>7.0</td>\n",
       "      <td>23.0</td>\n",
       "      <td>0.0</td>\n",
       "      <td>0.0</td>\n",
       "      <td>42.8</td>\n",
       "      <td>0</td>\n",
       "    </tr>\n",
       "  </tbody>\n",
       "</table>\n",
       "<p>5 rows × 43 columns</p>\n",
       "</div>"
      ],
      "text/plain": [
       "    Rk  Pos1  Pos2  Age  Tm   G  GS    MP   FG   FGA  ...  Conference  Role  \\\n",
       "0  170     0     1   24   6  22   0   7.4  0.8   1.9  ...           1     1   \n",
       "1   58     2     1   32  11  65   0  13.8  1.9   4.6  ...           0     0   \n",
       "2  157     3     1   21  21  80  72  28.7  4.9  10.8  ...           0     1   \n",
       "3  352     1     1   25  17  18   0   7.5  1.3   3.0  ...           1     1   \n",
       "4   10     1     1   26  24  61  25  29.1  3.0   7.6  ...           1     1   \n",
       "\n",
       "    Fvot  FRank  Pvot  PRank  Mvot  MRank  Score  Play  \n",
       "0    786    123   0.0    0.0   0.0    0.0   83.5     0  \n",
       "1   2474     64   0.0    0.0   0.0    0.0   48.2     0  \n",
       "2  22774     29   0.0    0.0   0.0    0.0   40.0     0  \n",
       "3    861    120   1.0   52.0   0.0    0.0   75.5     0  \n",
       "4   4971     69   7.0   23.0   0.0    0.0   42.8     0  \n",
       "\n",
       "[5 rows x 43 columns]"
      ]
     },
     "execution_count": 11,
     "metadata": {},
     "output_type": "execute_result"
    }
   ],
   "source": [
    "from sklearn.preprocessing import LabelEncoder\n",
    "label=LabelEncoder()\n",
    "for col in data.columns:\n",
    "    if(data[col].dtype==\"object\"):\n",
    "        data[col]=label.fit_transform(data[col]) \n",
    "data.head()"
   ]
  },
  {
   "cell_type": "code",
   "execution_count": 12,
   "id": "dcfc66f3",
   "metadata": {},
   "outputs": [],
   "source": [
    "#split x and y \n",
    "x=data.drop(['Play'],axis=1)\n",
    "y=data[\"Play\"]"
   ]
  },
  {
   "cell_type": "code",
   "execution_count": 13,
   "id": "3133c904",
   "metadata": {},
   "outputs": [
    {
     "data": {
      "text/plain": [
       "(1408, 42)"
      ]
     },
     "execution_count": 13,
     "metadata": {},
     "output_type": "execute_result"
    }
   ],
   "source": [
    "x.shape"
   ]
  },
  {
   "cell_type": "code",
   "execution_count": 14,
   "id": "732a48a0",
   "metadata": {},
   "outputs": [],
   "source": [
    "from sklearn.preprocessing import StandardScaler\n",
    "scaler=StandardScaler()\n",
    "x=scaler.fit_transform(x)"
   ]
  },
  {
   "cell_type": "code",
   "execution_count": 15,
   "id": "84939e1d",
   "metadata": {},
   "outputs": [],
   "source": [
    "from sklearn.decomposition import PCA"
   ]
  },
  {
   "cell_type": "code",
   "execution_count": 16,
   "id": "88b5b96d",
   "metadata": {},
   "outputs": [],
   "source": [
    "pca=PCA(n_components=0.88)\n",
    "pca_data=pca.fit_transform(x)"
   ]
  },
  {
   "cell_type": "code",
   "execution_count": 17,
   "id": "689e83f1",
   "metadata": {},
   "outputs": [
    {
     "data": {
      "text/plain": [
       "(1408, 15)"
      ]
     },
     "execution_count": 17,
     "metadata": {},
     "output_type": "execute_result"
    }
   ],
   "source": [
    "pca_data.shape"
   ]
  },
  {
   "cell_type": "code",
   "execution_count": 18,
   "id": "fe6e4143",
   "metadata": {},
   "outputs": [
    {
     "data": {
      "text/plain": [
       "array([0.37517468, 0.11318263, 0.06357514, 0.05902237, 0.04680467,\n",
       "       0.03172583, 0.03046723, 0.02577529, 0.02377414, 0.02341929,\n",
       "       0.02008227, 0.0187212 , 0.01815482, 0.01613123, 0.01488207])"
      ]
     },
     "execution_count": 18,
     "metadata": {},
     "output_type": "execute_result"
    }
   ],
   "source": [
    "pca.explained_variance_ratio_"
   ]
  },
  {
   "cell_type": "code",
   "execution_count": 19,
   "id": "bad1757a",
   "metadata": {},
   "outputs": [
    {
     "data": {
      "text/plain": [
       "15"
      ]
     },
     "execution_count": 19,
     "metadata": {},
     "output_type": "execute_result"
    }
   ],
   "source": [
    "pca.n_components_"
   ]
  },
  {
   "cell_type": "code",
   "execution_count": 20,
   "id": "421d20d1",
   "metadata": {},
   "outputs": [],
   "source": [
    "from sklearn.model_selection import train_test_split\n",
    "x_train,x_test,y_train,y_test=train_test_split(pca_data,y,test_size=0.30,random_state=0)"
   ]
  },
  {
   "cell_type": "markdown",
   "id": "40067ded",
   "metadata": {},
   "source": [
    "# LogisticRegression Model"
   ]
  },
  {
   "cell_type": "code",
   "execution_count": 21,
   "id": "35c3c2e5",
   "metadata": {},
   "outputs": [],
   "source": [
    "from sklearn.linear_model import LogisticRegression\n",
    "lr=LogisticRegression()\n",
    "lr.fit(x_train,y_train)\n",
    "y_pred=lr.predict(x_test)"
   ]
  },
  {
   "cell_type": "code",
   "execution_count": 22,
   "id": "930c55a3",
   "metadata": {},
   "outputs": [
    {
     "data": {
      "text/plain": [
       "0.983451536643026"
      ]
     },
     "execution_count": 22,
     "metadata": {},
     "output_type": "execute_result"
    }
   ],
   "source": [
    "from sklearn.metrics import accuracy_score\n",
    "accuracy_score(y_pred,y_test)"
   ]
  },
  {
   "cell_type": "markdown",
   "id": "16eb9f19",
   "metadata": {},
   "source": [
    "# Decision Tree Model"
   ]
  },
  {
   "cell_type": "code",
   "execution_count": 23,
   "id": "c99278d5",
   "metadata": {},
   "outputs": [],
   "source": [
    "from sklearn.tree import DecisionTreeClassifier\n",
    "cart=DecisionTreeClassifier()\n",
    "cart.fit(x_train,y_train)\n",
    "y_pred=cart.predict(x_test)"
   ]
  },
  {
   "cell_type": "code",
   "execution_count": 24,
   "id": "4e5ea77a",
   "metadata": {},
   "outputs": [
    {
     "data": {
      "text/plain": [
       "0.9739952718676123"
      ]
     },
     "execution_count": 24,
     "metadata": {},
     "output_type": "execute_result"
    }
   ],
   "source": [
    "accuracy_score(y_pred,y_test)"
   ]
  },
  {
   "cell_type": "markdown",
   "id": "d8b12ace",
   "metadata": {},
   "source": [
    "# Random Forest Model"
   ]
  },
  {
   "cell_type": "code",
   "execution_count": 25,
   "id": "3b6012a1",
   "metadata": {},
   "outputs": [],
   "source": [
    "from sklearn.ensemble import RandomForestClassifier\n",
    "rd=RandomForestClassifier()\n",
    "rd.fit(x_train,y_train)\n",
    "y_pred=rd.predict(x_test)"
   ]
  },
  {
   "cell_type": "code",
   "execution_count": 26,
   "id": "1473cbb5",
   "metadata": {},
   "outputs": [
    {
     "data": {
      "text/plain": [
       "0.9810874704491725"
      ]
     },
     "execution_count": 26,
     "metadata": {},
     "output_type": "execute_result"
    }
   ],
   "source": [
    "accuracy_score(y_pred,y_test)"
   ]
  }
 ],
 "metadata": {
  "kernelspec": {
   "display_name": "Python 3 (ipykernel)",
   "language": "python",
   "name": "python3"
  },
  "language_info": {
   "codemirror_mode": {
    "name": "ipython",
    "version": 3
   },
   "file_extension": ".py",
   "mimetype": "text/x-python",
   "name": "python",
   "nbconvert_exporter": "python",
   "pygments_lexer": "ipython3",
   "version": "3.10.0"
  }
 },
 "nbformat": 4,
 "nbformat_minor": 5
}
