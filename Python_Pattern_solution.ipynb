{
 "cells": [
  {
   "cell_type": "code",
   "execution_count": 1,
   "id": "2a6903f2",
   "metadata": {},
   "outputs": [
    {
     "name": "stdout",
     "output_type": "stream",
     "text": [
      "enter num : 12\n",
      "12  is not Armstrong\n"
     ]
    }
   ],
   "source": [
    "#armstrong program\n",
    "num=int(input(\"enter num : \"))\n",
    "arms=str(num)\n",
    "l=len(arms)\n",
    "sum=0\n",
    "for x in arms:\n",
    "    y=int(x)\n",
    "    sum+=y**l\n",
    "if sum==num:\n",
    "    print(num,\"Armstrong\")\n",
    "else:\n",
    "    print(num,\" is not Armstrong\")"
   ]
  },
  {
   "cell_type": "code",
   "execution_count": 2,
   "id": "5e068b5c",
   "metadata": {},
   "outputs": [
    {
     "name": "stdout",
     "output_type": "stream",
     "text": [
      "Enter number of rows: 12\n",
      "* \n",
      "\n",
      "* * \n",
      "\n",
      "* * * \n",
      "\n",
      "* * * * \n",
      "\n",
      "* * * * * \n",
      "\n",
      "* * * * * * \n",
      "\n",
      "* * * * * * * \n",
      "\n",
      "* * * * * * * * \n",
      "\n",
      "* * * * * * * * * \n",
      "\n",
      "* * * * * * * * * * \n",
      "\n",
      "* * * * * * * * * * * \n",
      "\n",
      "* * * * * * * * * * * * \n",
      "\n"
     ]
    }
   ],
   "source": [
    "#pyramind progrram\n",
    "rows = int(input(\"Enter number of rows: \"))\n",
    "\n",
    "for i in range(rows):\n",
    "    for j in range(i+1):\n",
    "        print(\"* \", end=\"\")\n",
    "    print(\"\\n\")"
   ]
  },
  {
   "cell_type": "code",
   "execution_count": 3,
   "id": "f296c5ac",
   "metadata": {},
   "outputs": [
    {
     "name": "stdout",
     "output_type": "stream",
     "text": [
      "    * \r\n",
      "   * * \r\n",
      "  * * * \r\n",
      " * * * * \r\n",
      "* * * * * \r\n"
     ]
    }
   ],
   "source": [
    "#print tringle shape pyramind\n",
    "def triangle(n):\n",
    "\t# number of spaces\n",
    "\tk = n - 1\n",
    "\t# outer loop to handle number of rows\n",
    "\tfor i in range(0, n):\n",
    "\t\n",
    "\t\t# inner loop to handle number spaces\n",
    "\t\t# values changing acc. to requirement\n",
    "\t\tfor j in range(0, k):\n",
    "\t\t\tprint(end=\" \")\n",
    "\t\t# decrementing k after each loop\n",
    "\t\tk = k - 1\n",
    "\t\t# inner loop to handle number of columns\n",
    "\t\t# values changing acc. to outer loop\n",
    "\t\tfor j in range(0, i+1):\n",
    "\t\t\t# printing stars\n",
    "\t\t\tprint(\"* \", end=\"\")\n",
    "\t\t# ending line after each row\n",
    "\t\tprint(\"\\r\")\n",
    "n = 5\n",
    "triangle(n)\n"
   ]
  },
  {
   "cell_type": "code",
   "execution_count": 4,
   "id": "f9bc50a5",
   "metadata": {},
   "outputs": [
    {
     "name": "stdout",
     "output_type": "stream",
     "text": [
      "enter num : 12\n",
      "Entered number is not number\n"
     ]
    }
   ],
   "source": [
    "#prime number \n",
    "num=int(input(\"enter num : \"))\n",
    "prime=True\n",
    "for i in range(2,num):\n",
    "    if num%i==0:\n",
    "        prime=False\n",
    "if prime:\n",
    "    print(\"Entered number is prime number\")\n",
    "else:\n",
    "    print(\"Entered number is not number\")  "
   ]
  },
  {
   "cell_type": "code",
   "execution_count": 5,
   "id": "3b49afdc",
   "metadata": {},
   "outputs": [
    {
     "name": "stdout",
     "output_type": "stream",
     "text": [
      "enter num12\n",
      "[0, 1, 1, 2, 3, 5, 8, 13, 21, 34, 55, 89]\n"
     ]
    }
   ],
   "source": [
    "#fibonacci series : print first 20 fibonacci number\n",
    "0,1,1,2,3,5,8,13\n",
    "num2=int(input(\"enter num\"))\n",
    "n1,n2=0,1\n",
    "counter=0\n",
    "fabList=[]\n",
    "while counter<num2:\n",
    "    fabList.append(n1)\n",
    "    n3=n1+n2\n",
    "    n1=n2\n",
    "    n2=n3\n",
    "    counter+=1\n",
    "print(fabList)\n"
   ]
  },
  {
   "cell_type": "code",
   "execution_count": 6,
   "id": "c39950a7",
   "metadata": {},
   "outputs": [
    {
     "name": "stdout",
     "output_type": "stream",
     "text": [
      "enter num12\n",
      "even : 12\n"
     ]
    }
   ],
   "source": [
    "#check number is even or odd\n",
    "num=int(input(\"enter num\"))\n",
    "if num%2==0:\n",
    "    print(\"even :\",num)\n",
    "else:\n",
    "    print(\"odd num : \",num)"
   ]
  },
  {
   "cell_type": "code",
   "execution_count": 7,
   "id": "81fd6635",
   "metadata": {},
   "outputs": [
    {
     "name": "stdout",
     "output_type": "stream",
     "text": [
      "even :  2\n",
      "even :  4\n",
      "even :  6\n",
      "even :  8\n",
      "even :  10\n",
      "even :  12\n",
      "even :  14\n",
      "even :  16\n",
      "even :  18\n",
      "even :  20\n",
      "10\n"
     ]
    }
   ],
   "source": [
    "#print 1 to 20 even numbers\n",
    "num=21\n",
    "counter=0\n",
    "for x in range(1,num):\n",
    "    if x%2==0:\n",
    "        print(\"even : \",x)\n",
    "        counter+=1\n",
    "print(counter)"
   ]
  },
  {
   "cell_type": "code",
   "execution_count": 8,
   "id": "6e02c041",
   "metadata": {},
   "outputs": [
    {
     "name": "stdout",
     "output_type": "stream",
     "text": [
      "odd :  1\n",
      "odd :  3\n",
      "odd :  5\n",
      "odd :  7\n",
      "odd :  9\n",
      "odd :  11\n",
      "odd :  13\n",
      "odd :  15\n",
      "odd :  17\n",
      "odd :  19\n",
      "10\n"
     ]
    }
   ],
   "source": [
    "#print 1 to 20 odd numbers\n",
    "num=21\n",
    "counter=0\n",
    "for x in range(1,num):\n",
    "    if x%2==1:\n",
    "        print(\"odd : \",x)\n",
    "        counter+=1\n",
    "print(counter)"
   ]
  },
  {
   "cell_type": "code",
   "execution_count": 9,
   "id": "c3676e8b",
   "metadata": {},
   "outputs": [
    {
     "name": "stdout",
     "output_type": "stream",
     "text": [
      "enter number : 12\n",
      "enter number : 134\n",
      "enter number : 345\n",
      "enter number : 3456\n",
      "enter number : 34566\n",
      "Largest Number :  34566\n"
     ]
    }
   ],
   "source": [
    "#enter 5 number and find largest number into them\n",
    "numList=[]\n",
    "for x in range(0,5):\n",
    "    numList.append(int(input(\"enter number : \")))\n",
    "print(\"Largest Number : \",max(numList))"
   ]
  },
  {
   "cell_type": "code",
   "execution_count": 10,
   "id": "f43da278",
   "metadata": {},
   "outputs": [
    {
     "name": "stdout",
     "output_type": "stream",
     "text": [
      "{1, 2, 3, 4, 5, 6, 7, 8}\n"
     ]
    }
   ],
   "source": []
  }
 ],
 "metadata": {
  "kernelspec": {
   "display_name": "Python 3 (ipykernel)",
   "language": "python",
   "name": "python3"
  },
  "language_info": {
   "codemirror_mode": {
    "name": "ipython",
    "version": 3
   },
   "file_extension": ".py",
   "mimetype": "text/x-python",
   "name": "python",
   "nbconvert_exporter": "python",
   "pygments_lexer": "ipython3",
   "version": "3.10.0"
  }
 },
 "nbformat": 4,
 "nbformat_minor": 5
}
